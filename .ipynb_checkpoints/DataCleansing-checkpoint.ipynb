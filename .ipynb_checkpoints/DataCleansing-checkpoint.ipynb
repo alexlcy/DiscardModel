{
 "cells": [
  {
   "cell_type": "code",
   "execution_count": 36,
   "metadata": {},
   "outputs": [],
   "source": [
    "import os\n",
    "import copy\n",
    "import ast\n",
    "import time\n",
    "import json\n",
    "import random\n",
    "import glob\n",
    "import ast\n",
    "import numpy as np\n",
    "from functools import partial\n",
    "from collections import Counter\n",
    "from tqdm import tqdm_notebook as tqdm"
   ]
  },
  {
   "cell_type": "code",
   "execution_count": 37,
   "metadata": {},
   "outputs": [],
   "source": [
    "f = open('processed_data_jason/discard_tile_data.nosync.txt', 'r')"
   ]
  },
  {
   "cell_type": "code",
   "execution_count": 38,
   "metadata": {},
   "outputs": [],
   "source": [
    "DATA_SIZE = 26930469"
   ]
  },
  {
   "cell_type": "code",
   "execution_count": 39,
   "metadata": {},
   "outputs": [],
   "source": [
    "TRAIN_LABEL = [0]*int(26930469*0.5)\n",
    "VALID_LABEL = [1]*int(26930469*0.25)\n",
    "TEST_LABEL = [2]*int(26930469*0.25)\n",
    "\n",
    "ALL_LABEL = TRAIN_LABEL + VALID_LABEL + TEST_LABEL \n",
    "np.random.shuffle(ALL_LABEL)"
   ]
  },
  {
   "cell_type": "code",
   "execution_count": 40,
   "metadata": {},
   "outputs": [
    {
     "name": "stderr",
     "output_type": "stream",
     "text": [
      "/Users/alexlo/anaconda3/lib/python3.7/site-packages/ipykernel_launcher.py:14: TqdmDeprecationWarning: This function will be removed in tqdm==5.0.0\n",
      "Please use `tqdm.notebook.tqdm` instead of `tqdm.tqdm_notebook`\n",
      "  \n"
     ]
    },
    {
     "data": {
      "application/vnd.jupyter.widget-view+json": {
       "model_id": "475ac849acac4fd396c1e28145035c1e",
       "version_major": 2,
       "version_minor": 0
      },
      "text/plain": [
       "HBox(children=(FloatProgress(value=0.0, max=26930468.0), HTML(value='')))"
      ]
     },
     "metadata": {},
     "output_type": "display_data"
    },
    {
     "name": "stdout",
     "output_type": "stream",
     "text": [
      "\n"
     ]
    }
   ],
   "source": [
    "# Split data (unbalanced random)\n",
    "import random\n",
    "\n",
    "data_portion = 0.5\n",
    "val_ratio = 0.25\n",
    "test_ratio = 0.25\n",
    "train_ratio = 0.5\n",
    "\n",
    "f = open('processed_data_jason/discard_tile_data.nosync.txt', 'r')\n",
    "train_f = open('processed_data_jason/discard_tile_train.nosync.txt', 'a')\n",
    "val_f = open('processed_data_jason/discard_tile_val.nosync.txt', 'a')\n",
    "test_f = open('processed_data_jason/discard_tile_test.nosync.txt', 'a')\n",
    "\n",
    "for dataset in tqdm(ALL_LABEL):\n",
    "    line = f.readline()\n",
    "    if dataset == 0:\n",
    "        train_f.write(line)\n",
    "    elif dataset == 1:\n",
    "        val_f.write(line)\n",
    "    elif dataset == 2:\n",
    "        test_f.write(line)\n",
    "\n",
    "f.close()\n",
    "train_f.close()\n",
    "val_f.close()\n",
    "test_f.close()"
   ]
  }
 ],
 "metadata": {
  "kernelspec": {
   "display_name": "Python 3",
   "language": "python",
   "name": "python3"
  },
  "language_info": {
   "codemirror_mode": {
    "name": "ipython",
    "version": 3
   },
   "file_extension": ".py",
   "mimetype": "text/x-python",
   "name": "python",
   "nbconvert_exporter": "python",
   "pygments_lexer": "ipython3",
   "version": "3.7.6"
  }
 },
 "nbformat": 4,
 "nbformat_minor": 4
}
