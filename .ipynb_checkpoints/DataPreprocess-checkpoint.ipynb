{
 "cells": [
  {
   "cell_type": "code",
   "execution_count": 1,
   "metadata": {},
   "outputs": [],
   "source": [
    "import os\n",
    "import copy\n",
    "import ast\n",
    "import time\n",
    "import json\n",
    "import random\n",
    "import glob\n",
    "import ast\n",
    "import numpy as np\n",
    "from functools import partial\n",
    "from collections import Counter\n",
    "from tqdm import tqdm_notebook as tqdm\n",
    "\n",
    "import torch\n",
    "import torch.nn as nn\n",
    "import torch.nn.functional as F\n",
    "from torch.utils.data import Dataset, DataLoader\n",
    "#from torchsummary import summary"
   ]
  },
  {
   "cell_type": "code",
   "execution_count": 2,
   "metadata": {},
   "outputs": [],
   "source": [
    "game_folders = ['MO/', 'PLAY/', 'LIU/']\n",
    "folder_name = '../data/output2017/'\n",
    "all_game_files = []\n",
    "\n",
    "for game_folder in game_folders:\n",
    "    for file_name in os.listdir(folder_name + game_folder):\n",
    "        all_game_files.append(folder_name + game_folder + file_name)"
   ]
  },
  {
   "cell_type": "markdown",
   "metadata": {},
   "source": [
    "## Updated Approach"
   ]
  },
  {
   "cell_type": "code",
   "execution_count": 12,
   "metadata": {},
   "outputs": [],
   "source": [
    "def detect_wind(round_info, players_init_hands):\n",
    "    '''\n",
    "    Returns:\n",
    "    - round_wind (str)\n",
    "    - player_winds (dict) \n",
    "    '''\n",
    "    char2wind = {'东':'F1', '南':'F2', '西':'F3', '北':'F4'}\n",
    "    round_wind = char2wind[round_info[0]]\n",
    "    dealer = max(players_init_hands, key=lambda x: len(players_init_hands[x]))\n",
    "    player_winds = [0, 1, 2, 3]\n",
    "    player_winds = player_winds[dealer:] + player_winds[:dealer]\n",
    "    player_winds = {player: 'F'+str(i+1) for i, player in enumerate(player_winds)}\n",
    "    return player_winds, round_wind\n",
    "\n",
    "\n",
    "def extract_target_data(file, history_len=4):\n",
    "    '''\n",
    "    Args:\n",
    "    - history_len (int): max length of history of a single player to use\n",
    "\n",
    "    Returns:\n",
    "    - target_data (list): all chow-able data of all players\n",
    "    '''\n",
    "\n",
    "    def custom_eval(x):\n",
    "        try:\n",
    "            return eval(x)\n",
    "        except (NameError, SyntaxError):\n",
    "            return x\n",
    "\n",
    "    with open(file, 'r') as f:\n",
    "        lines = f.readlines()\n",
    "\n",
    "    target_data = []\n",
    "    target_data_write = []\n",
    "\n",
    "    # Record of all discarded tiles in sequential order\n",
    "    players_discard_tiles = {}\n",
    "    \n",
    "    # Record of all stealed tiles in sequential order\n",
    "    players_open_meld = {}\n",
    "\n",
    "    # The histories for respective players\n",
    "    players_history = {}\n",
    "\n",
    "    # The tiles they respectively have seen\n",
    "    players_seen = {}\n",
    "\n",
    "    # Latest hand tiles for respective players\n",
    "    players_latest_hands = {}\n",
    "\n",
    "    for line in lines[2:6]:\n",
    "        player_num, hands, _ = list(map(custom_eval, line.split('\\t')))\n",
    "        players_latest_hands[player_num] = hands\n",
    "        players_seen[player_num] = hands\n",
    "        players_history[player_num] = []\n",
    "        players_discard_tiles[player_num] = []\n",
    "        players_open_meld[player_num] = []\n",
    "\n",
    "    round_info = lines[1].split('\\t')\n",
    "\n",
    "    player_winds, round_wind = detect_wind(round_info, players_latest_hands)\n",
    "\n",
    "    # Play records\n",
    "    plays = lines[6:]\n",
    "    prev_turn_info = [-999, -999, -999, -999]  # dummy for first turn\n",
    "    \n",
    "    for turn_i, line in enumerate(plays):\n",
    "        turn_info = line.split('\\t') # e.g. [3, '打牌', ['F2'], '\\n']\n",
    "        turn_info[0] = int(turn_info[0])\n",
    "        turn_info[2] =ast.literal_eval(turn_info[2])\n",
    "        \n",
    "        turn_player = turn_info[0]\n",
    "        action = turn_info[1]\n",
    "        turn_data = {'turn_id': turn_i, 'turn_player': turn_player}\n",
    "\n",
    "        if action == '补花':\n",
    "            players_latest_hands[turn_player].remove(turn_info[2][0])\n",
    "\n",
    "        if action == '和牌':\n",
    "            continue\n",
    "\n",
    "        if action == '补花后摸牌' or action == '杠后摸牌': # ['3', '杠后摸牌', ['W1'], '\\n']\n",
    "            players_latest_hands[turn_player].append(turn_info[2][0])\n",
    "\n",
    "        if action == '打牌':\n",
    "            hand_list = players_latest_hands[turn_player]\n",
    "            turn_data['hand'] = [tile for tile in hand_list if not tile.startswith('H')]\n",
    "            turn_data['last_discard'] = {player: discard_tiles[-1] if len(discard_tiles) > 0 else '' for player, discard_tiles in players_discard_tiles.items()}\n",
    "            turn_data['discard'] = players_discard_tiles  # children are lists (mutable), deep copy is needed\n",
    "            turn_data['label'] = turn_info[2][0]\n",
    "            turn_data['open_meld'] = players_open_meld\n",
    "            \n",
    "            turn_target_data = turn_data  # data are dynamic (keep changing in loop), deepcopy for safe\n",
    "            turn_target_data['round_wind'] = round_wind\n",
    "            turn_target_data['own_wind'] = player_winds[turn_player]\n",
    "            \n",
    "            #target_data.append([turn_target_data] + copy.deepcopy(players_history[turn_player][::-1]))  # data are dynamic (keep changing in loop), deepcopy for safe\n",
    "            write_line = json.dumps([turn_target_data] + players_history[turn_player][::-1])\n",
    "            target_data_write.append(write_line)\n",
    "            \n",
    "            discard = turn_info[2][0]\n",
    "            players_discard_tiles[turn_player].append(discard)\n",
    "            players_latest_hands[turn_player].remove(discard)\n",
    "\n",
    "        if action == '摸牌' or action == '碰' or action == '明杠' or action == '暗杠':\n",
    "            # Update player's hand tiles\n",
    "            if action == '摸牌':  # ['3', '摸牌', ['W1'], '\\n']\n",
    "                players_latest_hands[turn_player].append(turn_info[2][0])\n",
    "            elif action == '碰':  # ['3', '碰', ['W1','W1','W1'], 'W2', '2\\n']\n",
    "                for tile in turn_info[2][:-1]:\n",
    "                    players_latest_hands[turn_player].remove(tile)\n",
    "                players_open_meld[turn_player] += turn_info[2]\n",
    "                \n",
    "            elif action == '明杠':  # ['3', '明杠', ['F2','F2','F2','F2'], 'F2', '2\\n']\n",
    "                for tile in turn_info[2][:-1]:\n",
    "                    players_latest_hands[turn_player].remove(tile)\n",
    "                players_open_meld[turn_player] += turn_info[2]\n",
    "                \n",
    "            elif action == '暗杠':\n",
    "                for tile in turn_info[2][:-1]:\n",
    "                    players_latest_hands[turn_player].remove(tile)\n",
    "\n",
    "        if action == '吃':  # ['3', '吃', ['W1','W2','W3'], 'W2', '2\\n']\n",
    "            for tile in turn_info[2]:\n",
    "                if tile != turn_info[3]:  # exclude steal tile\n",
    "                    players_latest_hands[turn_player].remove(tile)\n",
    "            players_open_meld[turn_player] += turn_info[2]\n",
    "\n",
    "        # history only includes states in '摸牌'/'碰'/'杠'/'吃' situations, states = [own hand(1 dim) + discard(4 dim) + steal(1 dim)]\n",
    "        if 'last_discard' in turn_data:\n",
    "            players_history[turn_player].append(turn_data)\n",
    "            \n",
    "        if len(players_history[turn_player]) > history_len:  # keep the 4 most recent histories only\n",
    "            players_history[turn_player].pop(0)  # remove the oldest\n",
    "            \n",
    "        prev_turn_info = turn_info\n",
    "    \n",
    "    return target_data_write"
   ]
  },
  {
   "cell_type": "code",
   "execution_count": 146,
   "metadata": {
    "scrolled": true
   },
   "outputs": [
    {
     "name": "stderr",
     "output_type": "stream",
     "text": [
      "/Users/alexlo/anaconda3/lib/python3.7/site-packages/ipykernel_launcher.py:2: TqdmDeprecationWarning: This function will be removed in tqdm==5.0.0\n",
      "Please use `tqdm.notebook.tqdm` instead of `tqdm.tqdm_notebook`\n",
      "  \n"
     ]
    },
    {
     "data": {
      "application/vnd.jupyter.widget-view+json": {
       "model_id": "a2b6a8e0ec134f7eb1b043ece03faf5d",
       "version_major": 2,
       "version_minor": 0
      },
      "text/plain": [
       "HBox(children=(FloatProgress(value=0.0, max=530458.0), HTML(value='')))"
      ]
     },
     "metadata": {},
     "output_type": "display_data"
    },
    {
     "name": "stdout",
     "output_type": "stream",
     "text": [
      "\n",
      "Total number of data: 26930469\n"
     ]
    }
   ],
   "source": [
    "data_vol = 0\n",
    "for file in tqdm(all_game_files):\n",
    "    discard_tile_data = extract_target_data(file, history_len=4)\n",
    "    with open('processed_data_jason/discard_tile_data.nosync.txt', 'a') as f:\n",
    "        for line in discard_tile_data:\n",
    "            f.write(line+'\\n')\n",
    "            data_vol += 1\n",
    "\n",
    "print(f'Total number of data: {data_vol}')"
   ]
  },
  {
   "cell_type": "code",
   "execution_count": 147,
   "metadata": {},
   "outputs": [
    {
     "name": "stdout",
     "output_type": "stream",
     "text": [
      "Total number of data: 26930469\n"
     ]
    }
   ],
   "source": [
    "print(f'Total number of data: {data_vol}')"
   ]
  },
  {
   "cell_type": "code",
   "execution_count": null,
   "metadata": {},
   "outputs": [],
   "source": []
  }
 ],
 "metadata": {
  "kernelspec": {
   "display_name": "Python 3",
   "language": "python",
   "name": "python3"
  },
  "language_info": {
   "codemirror_mode": {
    "name": "ipython",
    "version": 3
   },
   "file_extension": ".py",
   "mimetype": "text/x-python",
   "name": "python",
   "nbconvert_exporter": "python",
   "pygments_lexer": "ipython3",
   "version": "3.7.6"
  }
 },
 "nbformat": 4,
 "nbformat_minor": 4
}
